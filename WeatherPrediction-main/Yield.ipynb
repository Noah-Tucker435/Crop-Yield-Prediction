{
 "cells": [
  {
   "cell_type": "code",
   "execution_count": 1,
   "id": "82eb81d0",
   "metadata": {},
   "outputs": [],
   "source": [
    "import pandas as pd\n",
    "\n",
    "import seaborn as sns\n",
    "import matplotlib.pyplot as plt\n",
    "%matplotlib inline\n",
    "import warnings\n",
    "warnings.filterwarnings('ignore')"
   ]
  },
  {
   "cell_type": "code",
   "execution_count": 3,
   "id": "b0415018",
   "metadata": {},
   "outputs": [
    {
     "data": {
      "text/html": [
       "<div>\n",
       "<style scoped>\n",
       "    .dataframe tbody tr th:only-of-type {\n",
       "        vertical-align: middle;\n",
       "    }\n",
       "\n",
       "    .dataframe tbody tr th {\n",
       "        vertical-align: top;\n",
       "    }\n",
       "\n",
       "    .dataframe thead th {\n",
       "        text-align: right;\n",
       "    }\n",
       "</style>\n",
       "<table border=\"1\" class=\"dataframe\">\n",
       "  <thead>\n",
       "    <tr style=\"text-align: right;\">\n",
       "      <th></th>\n",
       "      <th>Date</th>\n",
       "      <th>Htemp</th>\n",
       "      <th>Ltemp</th>\n",
       "      <th>Humidity</th>\n",
       "      <th>Pressure</th>\n",
       "      <th>Yield</th>\n",
       "    </tr>\n",
       "  </thead>\n",
       "  <tbody>\n",
       "    <tr>\n",
       "      <th>36</th>\n",
       "      <td>Aug-18</td>\n",
       "      <td>95</td>\n",
       "      <td>66</td>\n",
       "      <td>82</td>\n",
       "      <td>30.02</td>\n",
       "      <td>7520.0</td>\n",
       "    </tr>\n",
       "    <tr>\n",
       "      <th>37</th>\n",
       "      <td>Sep-18</td>\n",
       "      <td>94</td>\n",
       "      <td>55</td>\n",
       "      <td>86</td>\n",
       "      <td>30.02</td>\n",
       "      <td>7520.0</td>\n",
       "    </tr>\n",
       "    <tr>\n",
       "      <th>38</th>\n",
       "      <td>Oct-18</td>\n",
       "      <td>89</td>\n",
       "      <td>37</td>\n",
       "      <td>83</td>\n",
       "      <td>30.07</td>\n",
       "      <td>7520.0</td>\n",
       "    </tr>\n",
       "    <tr>\n",
       "      <th>39</th>\n",
       "      <td>Nov-18</td>\n",
       "      <td>70</td>\n",
       "      <td>24</td>\n",
       "      <td>77</td>\n",
       "      <td>30.09</td>\n",
       "      <td>7520.0</td>\n",
       "    </tr>\n",
       "    <tr>\n",
       "      <th>40</th>\n",
       "      <td>Feb-19</td>\n",
       "      <td>77</td>\n",
       "      <td>21</td>\n",
       "      <td>78</td>\n",
       "      <td>30.08</td>\n",
       "      <td>7480.0</td>\n",
       "    </tr>\n",
       "    <tr>\n",
       "      <th>41</th>\n",
       "      <td>Mar-19</td>\n",
       "      <td>76</td>\n",
       "      <td>19</td>\n",
       "      <td>65</td>\n",
       "      <td>30.17</td>\n",
       "      <td>7480.0</td>\n",
       "    </tr>\n",
       "    <tr>\n",
       "      <th>42</th>\n",
       "      <td>Apr-19</td>\n",
       "      <td>86</td>\n",
       "      <td>34</td>\n",
       "      <td>71</td>\n",
       "      <td>29.95</td>\n",
       "      <td>7480.0</td>\n",
       "    </tr>\n",
       "    <tr>\n",
       "      <th>43</th>\n",
       "      <td>May-19</td>\n",
       "      <td>90</td>\n",
       "      <td>50</td>\n",
       "      <td>77</td>\n",
       "      <td>29.93</td>\n",
       "      <td>7480.0</td>\n",
       "    </tr>\n",
       "    <tr>\n",
       "      <th>44</th>\n",
       "      <td>Jun-19</td>\n",
       "      <td>92</td>\n",
       "      <td>57</td>\n",
       "      <td>74</td>\n",
       "      <td>29.94</td>\n",
       "      <td>7480.0</td>\n",
       "    </tr>\n",
       "    <tr>\n",
       "      <th>45</th>\n",
       "      <td>19-Jul</td>\n",
       "      <td>95</td>\n",
       "      <td>62</td>\n",
       "      <td>77</td>\n",
       "      <td>30.00</td>\n",
       "      <td>7480.0</td>\n",
       "    </tr>\n",
       "    <tr>\n",
       "      <th>46</th>\n",
       "      <td>Aug-19</td>\n",
       "      <td>98</td>\n",
       "      <td>64</td>\n",
       "      <td>77</td>\n",
       "      <td>29.96</td>\n",
       "      <td>7480.0</td>\n",
       "    </tr>\n",
       "    <tr>\n",
       "      <th>47</th>\n",
       "      <td>Sep-19</td>\n",
       "      <td>98</td>\n",
       "      <td>66</td>\n",
       "      <td>73</td>\n",
       "      <td>30.03</td>\n",
       "      <td>7480.0</td>\n",
       "    </tr>\n",
       "    <tr>\n",
       "      <th>48</th>\n",
       "      <td>Oct-19</td>\n",
       "      <td>94</td>\n",
       "      <td>33</td>\n",
       "      <td>75</td>\n",
       "      <td>30.02</td>\n",
       "      <td>7480.0</td>\n",
       "    </tr>\n",
       "    <tr>\n",
       "      <th>49</th>\n",
       "      <td>Nov-19</td>\n",
       "      <td>70</td>\n",
       "      <td>18</td>\n",
       "      <td>75</td>\n",
       "      <td>30.14</td>\n",
       "      <td>7480.0</td>\n",
       "    </tr>\n",
       "    <tr>\n",
       "      <th>50</th>\n",
       "      <td>Feb-20</td>\n",
       "      <td>73</td>\n",
       "      <td>22</td>\n",
       "      <td>73</td>\n",
       "      <td>30.10</td>\n",
       "      <td>7500.0</td>\n",
       "    </tr>\n",
       "    <tr>\n",
       "      <th>51</th>\n",
       "      <td>Mar-20</td>\n",
       "      <td>88</td>\n",
       "      <td>34</td>\n",
       "      <td>76</td>\n",
       "      <td>30.09</td>\n",
       "      <td>7500.0</td>\n",
       "    </tr>\n",
       "    <tr>\n",
       "      <th>52</th>\n",
       "      <td>Apr-20</td>\n",
       "      <td>84</td>\n",
       "      <td>34</td>\n",
       "      <td>73</td>\n",
       "      <td>29.96</td>\n",
       "      <td>7500.0</td>\n",
       "    </tr>\n",
       "    <tr>\n",
       "      <th>53</th>\n",
       "      <td>May-20</td>\n",
       "      <td>87</td>\n",
       "      <td>45</td>\n",
       "      <td>73</td>\n",
       "      <td>29.98</td>\n",
       "      <td>7500.0</td>\n",
       "    </tr>\n",
       "    <tr>\n",
       "      <th>54</th>\n",
       "      <td>Jun-20</td>\n",
       "      <td>94</td>\n",
       "      <td>61</td>\n",
       "      <td>74</td>\n",
       "      <td>29.96</td>\n",
       "      <td>7500.0</td>\n",
       "    </tr>\n",
       "    <tr>\n",
       "      <th>55</th>\n",
       "      <td>20-Jul</td>\n",
       "      <td>94</td>\n",
       "      <td>71</td>\n",
       "      <td>76</td>\n",
       "      <td>29.96</td>\n",
       "      <td>7500.0</td>\n",
       "    </tr>\n",
       "    <tr>\n",
       "      <th>56</th>\n",
       "      <td>Aug-20</td>\n",
       "      <td>97</td>\n",
       "      <td>65</td>\n",
       "      <td>72</td>\n",
       "      <td>29.95</td>\n",
       "      <td>7500.0</td>\n",
       "    </tr>\n",
       "    <tr>\n",
       "      <th>57</th>\n",
       "      <td>Sep-20</td>\n",
       "      <td>90</td>\n",
       "      <td>50</td>\n",
       "      <td>78</td>\n",
       "      <td>30.03</td>\n",
       "      <td>7500.0</td>\n",
       "    </tr>\n",
       "    <tr>\n",
       "      <th>58</th>\n",
       "      <td>Oct-20</td>\n",
       "      <td>84</td>\n",
       "      <td>38</td>\n",
       "      <td>78</td>\n",
       "      <td>30.07</td>\n",
       "      <td>7500.0</td>\n",
       "    </tr>\n",
       "    <tr>\n",
       "      <th>59</th>\n",
       "      <td>Nov-20</td>\n",
       "      <td>80</td>\n",
       "      <td>32</td>\n",
       "      <td>72</td>\n",
       "      <td>30.19</td>\n",
       "      <td>7500.0</td>\n",
       "    </tr>\n",
       "  </tbody>\n",
       "</table>\n",
       "</div>"
      ],
      "text/plain": [
       "      Date  Htemp  Ltemp  Humidity  Pressure   Yield\n",
       "36  Aug-18     95     66        82     30.02  7520.0\n",
       "37  Sep-18     94     55        86     30.02  7520.0\n",
       "38  Oct-18     89     37        83     30.07  7520.0\n",
       "39  Nov-18     70     24        77     30.09  7520.0\n",
       "40  Feb-19     77     21        78     30.08  7480.0\n",
       "41  Mar-19     76     19        65     30.17  7480.0\n",
       "42  Apr-19     86     34        71     29.95  7480.0\n",
       "43  May-19     90     50        77     29.93  7480.0\n",
       "44  Jun-19     92     57        74     29.94  7480.0\n",
       "45  19-Jul     95     62        77     30.00  7480.0\n",
       "46  Aug-19     98     64        77     29.96  7480.0\n",
       "47  Sep-19     98     66        73     30.03  7480.0\n",
       "48  Oct-19     94     33        75     30.02  7480.0\n",
       "49  Nov-19     70     18        75     30.14  7480.0\n",
       "50  Feb-20     73     22        73     30.10  7500.0\n",
       "51  Mar-20     88     34        76     30.09  7500.0\n",
       "52  Apr-20     84     34        73     29.96  7500.0\n",
       "53  May-20     87     45        73     29.98  7500.0\n",
       "54  Jun-20     94     61        74     29.96  7500.0\n",
       "55  20-Jul     94     71        76     29.96  7500.0\n",
       "56  Aug-20     97     65        72     29.95  7500.0\n",
       "57  Sep-20     90     50        78     30.03  7500.0\n",
       "58  Oct-20     84     38        78     30.07  7500.0\n",
       "59  Nov-20     80     32        72     30.19  7500.0"
      ]
     },
     "execution_count": 3,
     "metadata": {},
     "output_type": "execute_result"
    }
   ],
   "source": [
    "df=pd.read_csv('WeatherData.csv', delimiter=',', skipinitialspace=True)\n",
    "df.tail(24)\n"
   ]
  },
  {
   "cell_type": "code",
   "execution_count": 6,
   "id": "bdca2a96",
   "metadata": {},
   "outputs": [
    {
     "ename": "NameError",
     "evalue": "name 'df' is not defined",
     "output_type": "error",
     "traceback": [
      "\u001b[1;31m---------------------------------------------------------------------------\u001b[0m",
      "\u001b[1;31mNameError\u001b[0m                                 Traceback (most recent call last)",
      "\u001b[1;32m~\\AppData\\Local\\Temp\\ipykernel_28164\\2855882832.py\u001b[0m in \u001b[0;36m<module>\u001b[1;34m\u001b[0m\n\u001b[1;32m----> 1\u001b[1;33m \u001b[0mdata\u001b[0m \u001b[1;33m=\u001b[0m \u001b[0mpd\u001b[0m\u001b[1;33m.\u001b[0m\u001b[0mDataFrame\u001b[0m\u001b[1;33m(\u001b[0m\u001b[0mlist\u001b[0m\u001b[1;33m(\u001b[0m\u001b[0mdf\u001b[0m\u001b[1;33m[\u001b[0m\u001b[1;34m'Htemp'\u001b[0m\u001b[1;33m]\u001b[0m\u001b[1;33m)\u001b[0m\u001b[1;33m,\u001b[0m \u001b[0mcolumns\u001b[0m\u001b[1;33m=\u001b[0m\u001b[1;33m[\u001b[0m\u001b[1;34m'htemp'\u001b[0m\u001b[1;33m]\u001b[0m\u001b[1;33m)\u001b[0m\u001b[1;33m\u001b[0m\u001b[1;33m\u001b[0m\u001b[0m\n\u001b[0m\u001b[0;32m      2\u001b[0m \u001b[0mdf\u001b[0m\u001b[1;33m=\u001b[0m\u001b[0mdata\u001b[0m\u001b[1;33m[\u001b[0m\u001b[1;33m:\u001b[0m\u001b[1;36m59\u001b[0m\u001b[1;33m]\u001b[0m\u001b[1;33m\u001b[0m\u001b[1;33m\u001b[0m\u001b[0m\n\u001b[0;32m      3\u001b[0m \u001b[0mdf\u001b[0m\u001b[1;33m.\u001b[0m\u001b[0mshape\u001b[0m\u001b[1;33m\u001b[0m\u001b[1;33m\u001b[0m\u001b[0m\n\u001b[0;32m      4\u001b[0m \u001b[0mdf\u001b[0m\u001b[1;33m.\u001b[0m\u001b[0misnull\u001b[0m\u001b[1;33m(\u001b[0m\u001b[1;33m)\u001b[0m\u001b[1;33m.\u001b[0m\u001b[0msum\u001b[0m\u001b[1;33m(\u001b[0m\u001b[1;33m)\u001b[0m\u001b[1;33m\u001b[0m\u001b[1;33m\u001b[0m\u001b[0m\n\u001b[0;32m      5\u001b[0m \u001b[0mdf\u001b[0m\u001b[1;33m=\u001b[0m\u001b[0mdf\u001b[0m\u001b[1;33m.\u001b[0m\u001b[0mdropna\u001b[0m\u001b[1;33m(\u001b[0m\u001b[0maxis\u001b[0m\u001b[1;33m=\u001b[0m\u001b[1;36m0\u001b[0m\u001b[1;33m)\u001b[0m\u001b[1;33m\u001b[0m\u001b[1;33m\u001b[0m\u001b[0m\n",
      "\u001b[1;31mNameError\u001b[0m: name 'df' is not defined"
     ]
    }
   ],
   "source": [
    "data = pd.DataFrame(list(df['Htemp']), columns=['htemp'])\n",
    "df=data[:59]\n",
    "df.shape\n",
    "df.isnull().sum()\n",
    "df=df.dropna(axis=0)\n",
    "df.shape\n",
    "df=df['htemp'].values\n",
    "df[:5]\n",
    "df=df.reshape(-1,1)\n",
    "plt.figure(figsize=(25,7))\n",
    "plt.plot(df, linewidth=1)\n",
    "plt.title(\"Time Series (temperature month wise for 1 year)\")\n",
    "plt.show()"
   ]
  },
  {
   "cell_type": "code",
   "execution_count": 6,
   "id": "29962d6f",
   "metadata": {},
   "outputs": [
    {
     "data": {
      "text/plain": [
       "(59, 1)"
      ]
     },
     "execution_count": 6,
     "metadata": {},
     "output_type": "execute_result"
    }
   ],
   "source": [
    "from sklearn.preprocessing import MinMaxScaler\n",
    "scaler = MinMaxScaler(feature_range=(0,1))\n",
    "data_scaled = scaler.fit_transform(df) \n",
    "data_scaled[:5]\n",
    "data_scaled.shape"
   ]
  },
  {
   "cell_type": "code",
   "execution_count": 2,
   "id": "da88c966",
   "metadata": {},
   "outputs": [],
   "source": [
    "import matplotlib.pyplot as plt\n",
    "import seaborn as sns\n",
    "from tensorflow.keras.layers import Dense, RepeatVector, LSTM, Dropout\n",
    "from tensorflow.keras.layers import Flatten, Conv1D, MaxPooling1D\n",
    "from tensorflow.keras.layers import Bidirectional, Dropout\n",
    "from tensorflow.keras.models import Sequential\n",
    "from tensorflow.keras.utils import plot_model\n"
   ]
  },
  {
   "cell_type": "code",
   "execution_count": 4,
   "id": "394606ae",
   "metadata": {},
   "outputs": [
    {
     "ename": "NameError",
     "evalue": "name 'data_scaled' is not defined",
     "output_type": "error",
     "traceback": [
      "\u001b[1;31m---------------------------------------------------------------------------\u001b[0m",
      "\u001b[1;31mNameError\u001b[0m                                 Traceback (most recent call last)",
      "\u001b[1;32m~\\AppData\\Local\\Temp\\ipykernel_28164\\1467009244.py\u001b[0m in \u001b[0;36m<module>\u001b[1;34m\u001b[0m\n\u001b[0;32m      2\u001b[0m \u001b[0minp\u001b[0m \u001b[1;33m=\u001b[0m \u001b[1;33m[\u001b[0m\u001b[1;33m]\u001b[0m\u001b[1;33m\u001b[0m\u001b[1;33m\u001b[0m\u001b[0m\n\u001b[0;32m      3\u001b[0m \u001b[0mout\u001b[0m \u001b[1;33m=\u001b[0m \u001b[1;33m[\u001b[0m\u001b[1;33m]\u001b[0m\u001b[1;33m\u001b[0m\u001b[1;33m\u001b[0m\u001b[0m\n\u001b[1;32m----> 4\u001b[1;33m \u001b[1;32mfor\u001b[0m \u001b[0mi\u001b[0m \u001b[1;32min\u001b[0m \u001b[0mrange\u001b[0m\u001b[1;33m(\u001b[0m\u001b[0mlen\u001b[0m\u001b[1;33m(\u001b[0m\u001b[0mdata_scaled\u001b[0m\u001b[1;33m)\u001b[0m \u001b[1;33m-\u001b[0m \u001b[1;33m(\u001b[0m\u001b[0msteps\u001b[0m\u001b[1;33m)\u001b[0m\u001b[1;33m)\u001b[0m\u001b[1;33m:\u001b[0m\u001b[1;33m\u001b[0m\u001b[1;33m\u001b[0m\u001b[0m\n\u001b[0m\u001b[0;32m      5\u001b[0m     \u001b[0minp\u001b[0m\u001b[1;33m.\u001b[0m\u001b[0mappend\u001b[0m\u001b[1;33m(\u001b[0m\u001b[0mdata_scaled\u001b[0m\u001b[1;33m[\u001b[0m\u001b[0mi\u001b[0m\u001b[1;33m:\u001b[0m\u001b[0mi\u001b[0m\u001b[1;33m+\u001b[0m\u001b[0msteps\u001b[0m\u001b[1;33m]\u001b[0m\u001b[1;33m)\u001b[0m\u001b[1;33m\u001b[0m\u001b[1;33m\u001b[0m\u001b[0m\n\u001b[0;32m      6\u001b[0m     \u001b[0mout\u001b[0m\u001b[1;33m.\u001b[0m\u001b[0mappend\u001b[0m\u001b[1;33m(\u001b[0m\u001b[0mdata_scaled\u001b[0m\u001b[1;33m[\u001b[0m\u001b[0mi\u001b[0m\u001b[1;33m+\u001b[0m\u001b[0msteps\u001b[0m\u001b[1;33m]\u001b[0m\u001b[1;33m)\u001b[0m\u001b[1;33m\u001b[0m\u001b[1;33m\u001b[0m\u001b[0m\n",
      "\u001b[1;31mNameError\u001b[0m: name 'data_scaled' is not defined"
     ]
    }
   ],
   "source": [
    "steps = 20\n",
    "inp = []\n",
    "out = []\n",
    "for i in range(len(data_scaled) - (steps)):\n",
    "    inp.append(data_scaled[i:i+steps])\n",
    "    out.append(data_scaled[i+steps])\n",
    "import numpy as np\n",
    "inp = np.asanyarray(inp)\n",
    "out = np.asanyarray(out)\n",
    "len(df)*0.65\n",
    "x_train = inp[:237,:,:]\n",
    "x_test = inp[237:,:,:]\n",
    "y_train = out[:237]\n",
    "y_test= out[237:]\n",
    "inp.shape\n",
    "x_train.shape\n",
    "x_test.shape"
   ]
  },
  {
   "cell_type": "code",
   "execution_count": 3,
   "id": "fce9010c",
   "metadata": {},
   "outputs": [
    {
     "ename": "NameError",
     "evalue": "name 'Sequential' is not defined",
     "output_type": "error",
     "traceback": [
      "\u001b[1;31m---------------------------------------------------------------------------\u001b[0m",
      "\u001b[1;31mNameError\u001b[0m                                 Traceback (most recent call last)",
      "\u001b[1;32m~\\AppData\\Local\\Temp\\ipykernel_28164\\2687183755.py\u001b[0m in \u001b[0;36m<module>\u001b[1;34m\u001b[0m\n\u001b[1;32m----> 1\u001b[1;33m \u001b[0mmodel\u001b[0m \u001b[1;33m=\u001b[0m \u001b[0mSequential\u001b[0m\u001b[1;33m(\u001b[0m\u001b[1;33m)\u001b[0m\u001b[1;33m\u001b[0m\u001b[1;33m\u001b[0m\u001b[0m\n\u001b[0m\u001b[0;32m      2\u001b[0m \u001b[0mmodel\u001b[0m\u001b[1;33m.\u001b[0m\u001b[0madd\u001b[0m\u001b[1;33m(\u001b[0m\u001b[0mLSTM\u001b[0m\u001b[1;33m(\u001b[0m\u001b[1;36m50\u001b[0m\u001b[1;33m,\u001b[0m \u001b[0mreturn_sequences\u001b[0m\u001b[1;33m=\u001b[0m\u001b[1;32mTrue\u001b[0m\u001b[1;33m,\u001b[0m \u001b[0minput_shape\u001b[0m\u001b[1;33m=\u001b[0m \u001b[1;33m(\u001b[0m\u001b[1;36m20\u001b[0m\u001b[1;33m,\u001b[0m\u001b[1;36m1\u001b[0m\u001b[1;33m)\u001b[0m\u001b[1;33m)\u001b[0m\u001b[1;33m)\u001b[0m\u001b[1;33m\u001b[0m\u001b[1;33m\u001b[0m\u001b[0m\n\u001b[0;32m      3\u001b[0m \u001b[0mmodel\u001b[0m\u001b[1;33m.\u001b[0m\u001b[0madd\u001b[0m\u001b[1;33m(\u001b[0m\u001b[0mLSTM\u001b[0m\u001b[1;33m(\u001b[0m\u001b[1;36m50\u001b[0m\u001b[1;33m,\u001b[0m \u001b[0mreturn_sequences\u001b[0m\u001b[1;33m=\u001b[0m\u001b[1;32mTrue\u001b[0m\u001b[1;33m)\u001b[0m\u001b[1;33m)\u001b[0m\u001b[1;33m\u001b[0m\u001b[1;33m\u001b[0m\u001b[0m\n\u001b[0;32m      4\u001b[0m \u001b[0mmodel\u001b[0m\u001b[1;33m.\u001b[0m\u001b[0madd\u001b[0m\u001b[1;33m(\u001b[0m\u001b[0mLSTM\u001b[0m\u001b[1;33m(\u001b[0m\u001b[1;36m50\u001b[0m\u001b[1;33m)\u001b[0m\u001b[1;33m)\u001b[0m\u001b[1;33m\u001b[0m\u001b[1;33m\u001b[0m\u001b[0m\n\u001b[0;32m      5\u001b[0m \u001b[0mmodel\u001b[0m\u001b[1;33m.\u001b[0m\u001b[0madd\u001b[0m\u001b[1;33m(\u001b[0m\u001b[0mDense\u001b[0m\u001b[1;33m(\u001b[0m\u001b[1;36m1\u001b[0m\u001b[1;33m)\u001b[0m\u001b[1;33m)\u001b[0m\u001b[1;33m\u001b[0m\u001b[1;33m\u001b[0m\u001b[0m\n",
      "\u001b[1;31mNameError\u001b[0m: name 'Sequential' is not defined"
     ]
    }
   ],
   "source": [
    "model = Sequential()\n",
    "model.add(LSTM(50, return_sequences=True, input_shape= (20,1)))\n",
    "model.add(LSTM(50, return_sequences=True))\n",
    "model.add(LSTM(50))\n",
    "model.add(Dense(1))\n",
    "model.compile(loss = 'mean_squared_error', optimizer = 'adam')\n",
    "model = Sequential()\n",
    "model.add(LSTM(50, return_sequences=True, input_shape=(20,1)))\n",
    "model.add(LSTM(50, return_sequences=True))\n",
    "model.add(LSTM(50))\n",
    "model.add(Dense(1))\n",
    "model.compile(loss = 'mean_squared_error', optimizer = 'adam')\n",
    "\n"
   ]
  },
  {
   "cell_type": "code",
   "execution_count": null,
   "id": "0daf4370",
   "metadata": {},
   "outputs": [],
   "source": [
    "model.fit(x_train, y_train, epochs=300, verbose=1,)"
   ]
  },
  {
   "cell_type": "code",
   "execution_count": null,
   "id": "02f8293f",
   "metadata": {},
   "outputs": [],
   "source": [
    "print(\"Predicted Value\", model.predict(x_train)[40][0])\n",
    "print(\"Expected value\", y_train[40][0])"
   ]
  },
  {
   "cell_type": "code",
   "execution_count": null,
   "id": "ce7ddf74",
   "metadata": {},
   "outputs": [],
   "source": [
    "predictions=model.predict(x_test)\n",
    "print(\"Predicted Value\", predictions[50][0])\n",
    "print(\"Expected Value\", y_test[50][0])"
   ]
  },
  {
   "cell_type": "code",
   "execution_count": null,
   "id": "b2ea98ee",
   "metadata": {},
   "outputs": [],
   "source": [
    "predictions.shape"
   ]
  },
  {
   "cell_type": "code",
   "execution_count": null,
   "id": "1aa25601",
   "metadata": {},
   "outputs": [],
   "source": [
    "y_test.shape"
   ]
  },
  {
   "cell_type": "code",
   "execution_count": null,
   "id": "6c2e607e",
   "metadata": {},
   "outputs": [],
   "source": [
    "pred_df=pd.DataFrame(predictions)\n",
    "pred_df['TrueValues']=y_test\n",
    "pred_df_new = pred_df.rename(columns={ 0: 'Predictions'})\n",
    "pred_df_new"
   ]
  },
  {
   "cell_type": "code",
   "execution_count": null,
   "id": "f0944791",
   "metadata": {},
   "outputs": [],
   "source": [
    "plt.figure(figsize=(12,8))\n",
    "sns.lineplot(data = pred_df_new)\n",
    "plt.title(\"Predictions VS True Values on Testing Set\")"
   ]
  },
  {
   "cell_type": "code",
   "execution_count": null,
   "id": "a10541d3",
   "metadata": {},
   "outputs": [],
   "source": [
    "data_scaled.shape\n",
    "x_input=data_scaled[:20]\n",
    "x_input.shape\n",
    "x_input = x_input.reshape(1,-1)\n",
    "x_input.shape\n",
    "temp_input = list(x_input)\n",
    "temp_input = temp_input[0].tolist()"
   ]
  },
  {
   "cell_type": "code",
   "execution_count": null,
   "id": "7212455a",
   "metadata": {},
   "outputs": [],
   "source": [
    "x_input=data_scaled[:20]"
   ]
  },
  {
   "cell_type": "code",
   "execution_count": null,
   "id": "471113a4",
   "metadata": {},
   "outputs": [],
   "source": []
  },
  {
   "cell_type": "code",
   "execution_count": null,
   "id": "5a3245a9",
   "metadata": {
    "scrolled": true
   },
   "outputs": [],
   "source": [
    "from numpy import array\n",
    "\n",
    "lst_output=[]\n",
    "n_steps=20\n",
    "i=0\n",
    "while(i<30):\n",
    "    if(len(temp_input)>20):\n",
    "        x_input=np.array(temp_input[1:])\n",
    "        print(\"{} month input {}\".format(i,x_input))\n",
    "        x_input=x_input.reshape(1,-1)\n",
    "        x_input=x_input.reshape((1, n_steps, 1))\n",
    "        yhat = model.predict(x_input, verbose=0)\n",
    "        print(\"{} month output {}\".format(i,yhat))\n",
    "        temp_input.extend(yhat[0].tolist())\n",
    "        temp_input=temp_input[1:]\n",
    "        lst_output.extend(yhat.tolist())\n",
    "        i=i+1\n",
    "    else:\n",
    "        x_input = x_input.reshape((1, n_steps, 1))\n",
    "        yhat = model.predict(x_input, verbose=0)\n",
    "        print(yhat[0])\n",
    "        temp_input.extend(yhat[0].tolist())\n",
    "        lst_output.extend(yhat.tolist())\n",
    "        i=i+1"
   ]
  },
  {
   "cell_type": "code",
   "execution_count": null,
   "id": "b6366627",
   "metadata": {},
   "outputs": [],
   "source": [
    "lst_output"
   ]
  },
  {
   "cell_type": "code",
   "execution_count": null,
   "id": "78051fe1",
   "metadata": {},
   "outputs": [],
   "source": [
    "day_new = np.arange(1,366)\n",
    "day_pred = np.arange(363, 393)\n",
    "plt.figure(figsize = (12,8))\n",
    "plt.plot(day_new, data_scaled)\n",
    "plt.plot(day_pred, lst_output)"
   ]
  },
  {
   "cell_type": "code",
   "execution_count": null,
   "id": "047c7d07",
   "metadata": {},
   "outputs": [],
   "source": []
  },
  {
   "cell_type": "code",
   "execution_count": null,
   "id": "a529a2b5",
   "metadata": {},
   "outputs": [],
   "source": [
    "data_scaled[:5]\n",
    "df3 = data_scaled.tolist()\n",
    "df3.extend(lst_output)\n",
    "plt.figure(figsize=(12,8))\n",
    "plt.plot(df3)"
   ]
  },
  {
   "cell_type": "code",
   "execution_count": null,
   "id": "04c4bc8b",
   "metadata": {},
   "outputs": [],
   "source": [
    "df=pd.read_csv('weather.csv', delimiter=',', skipinitialspace=True)\n",
    "df.tail(30)"
   ]
  },
  {
   "cell_type": "code",
   "execution_count": null,
   "id": "32df3eb6",
   "metadata": {},
   "outputs": [],
   "source": [
    "data = pd.DataFrame(list(df['TMIN']), index=df['DY'], columns=['tmin'])\n",
    "df=data[:365]\n",
    "df.shape\n",
    "df.isnull().sum()\n",
    "df=df.dropna(axis=0)\n",
    "df.shape\n",
    "df=df['tmin'].values\n",
    "df[:5]\n",
    "df=df.reshape(-1,1)\n",
    "plt.figure(figsize=(25,7))\n",
    "plt.plot(df, linewidth=1)\n",
    "plt.title(\"Time Series (temperature month wise for 1 year)\")\n",
    "plt.show()"
   ]
  },
  {
   "cell_type": "code",
   "execution_count": null,
   "id": "ceaebb6b-3f03-4f65-a6b2-0bbd9de86f06",
   "metadata": {},
   "outputs": [],
   "source": [
    "from sklearn.preprocessing import MinMaxScaler\n",
    "scaler = MinMaxScaler(feature_range=(0,1))\n",
    "data_scaled = scaler.fit_transform(df) \n",
    "data_scaled[:5]\n",
    "data_scaled.shape"
   ]
  },
  {
   "cell_type": "code",
   "execution_count": null,
   "id": "71505172-2270-41a0-a4a4-c7d9c4452c30",
   "metadata": {},
   "outputs": [],
   "source": [
    "import matplotlib.pyplot as plt\n",
    "import seaborn as sns\n",
    "from tensorflow.keras.layers import Dense, RepeatVector, LSTM, Dropout\n",
    "from tensorflow.keras.layers import Flatten, Conv1D, MaxPooling1D\n",
    "from tensorflow.keras.layers import Bidirectional, Dropout\n",
    "from tensorflow.keras.models import Sequential\n",
    "from tensorflow.keras.utils import plot_model"
   ]
  },
  {
   "cell_type": "code",
   "execution_count": null,
   "id": "54c1da4b-eaa8-4be4-a303-4b896db4862c",
   "metadata": {},
   "outputs": [],
   "source": [
    "steps = 20\n",
    "inp = []\n",
    "out = []\n",
    "for i in range(len(data_scaled) - (steps)):\n",
    "    inp.append(data_scaled[i:i+steps])\n",
    "    out.append(data_scaled[i+steps])\n",
    "import numpy as np\n",
    "inp = np.asanyarray(inp)\n",
    "out = np.asanyarray(out)\n",
    "len(df)*0.65\n",
    "x_train = inp[:237,:,:]\n",
    "x_test = inp[237:,:,:]\n",
    "y_train = out[:237]\n",
    "y_test= out[237:]\n",
    "inp.shape\n",
    "x_train.shape\n",
    "x_test.shape"
   ]
  },
  {
   "cell_type": "code",
   "execution_count": null,
   "id": "2295d8da-3b67-4508-99e3-cb0012358b3b",
   "metadata": {},
   "outputs": [],
   "source": [
    "model = Sequential()\n",
    "model.add(LSTM(50, return_sequences=True, input_shape= (20,1)))\n",
    "model.add(LSTM(50, return_sequences=True))\n",
    "model.add(LSTM(50))\n",
    "model.add(Dense(1))\n",
    "model.compile(loss = 'mean_squared_error', optimizer = 'adam')\n",
    "model = Sequential()\n",
    "model.add(LSTM(50, return_sequences=True, input_shape=(20,1)))\n",
    "model.add(LSTM(50, return_sequences=True))\n",
    "model.add(LSTM(50))\n",
    "model.add(Dense(1))\n",
    "model.compile(loss = 'mean_squared_error', optimizer = 'adam')"
   ]
  },
  {
   "cell_type": "code",
   "execution_count": null,
   "id": "70dae80d-4516-49ea-aeb5-f5c810760db3",
   "metadata": {},
   "outputs": [],
   "source": [
    "model.fit(x_train, y_train, epochs=300, verbose=1,)"
   ]
  },
  {
   "cell_type": "code",
   "execution_count": null,
   "id": "0cb71221-726d-416c-afe7-3dda8d1ef1dd",
   "metadata": {},
   "outputs": [],
   "source": [
    "print(\"Predicted Value\", model.predict(x_train)[60][0])\n",
    "print(\"Expected value\", y_train[60][0])"
   ]
  },
  {
   "cell_type": "code",
   "execution_count": null,
   "id": "44612913-d6d8-4079-89f0-45c1ed0b6489",
   "metadata": {},
   "outputs": [],
   "source": [
    "predictions=model.predict(x_test)\n",
    "print(\"Predicted Value\", predictions[80][0])\n",
    "print(\"Expected Value\", y_test[80][0])"
   ]
  },
  {
   "cell_type": "code",
   "execution_count": null,
   "id": "76950aeb-eb59-49f2-ad81-5dc57683f10d",
   "metadata": {},
   "outputs": [],
   "source": [
    "pred_df=pd.DataFrame(predictions)\n",
    "pred_df['TrueValues']=y_test\n",
    "pred_df_new = pred_df.rename(columns={ 0: 'Predictions'})\n",
    "pred_df_new"
   ]
  },
  {
   "cell_type": "code",
   "execution_count": null,
   "id": "ff3f3928-f6f0-43be-8409-e6b2631e1068",
   "metadata": {},
   "outputs": [],
   "source": [
    "plt.figure(figsize=(24,16))\n",
    "sns.lineplot(data = pred_df_new)\n",
    "plt.title(\"Predictions VS True Values on Testing Set\")"
   ]
  },
  {
   "cell_type": "code",
   "execution_count": null,
   "id": "af0a9a23-b63d-4424-9a68-3fc6e073123d",
   "metadata": {},
   "outputs": [],
   "source": [
    "data_scaled.shape\n",
    "x_input=data_scaled[:20]\n",
    "x_input.shape\n",
    "x_input = x_input.reshape(1,-1)\n",
    "x_input.shape\n",
    "temp_input = list(x_input)\n",
    "temp_input = temp_input[0].tolist()"
   ]
  },
  {
   "cell_type": "code",
   "execution_count": null,
   "id": "22b3ba8d-8604-4588-bada-1f98536c3b7f",
   "metadata": {},
   "outputs": [],
   "source": [
    "x_input=data_scaled[:20]"
   ]
  },
  {
   "cell_type": "code",
   "execution_count": null,
   "id": "37ffd107-de17-4b29-9bbb-4ed5727ef94a",
   "metadata": {},
   "outputs": [],
   "source": [
    "from numpy import array\n",
    "\n",
    "lst_output=[]\n",
    "n_steps=20\n",
    "i=0\n",
    "while(i<30):\n",
    "    if(len(temp_input)>20):\n",
    "        x_input=np.array(temp_input[1:])\n",
    "        print(\"{} month input {}\".format(i,x_input))\n",
    "        x_input=x_input.reshape(1,-1)\n",
    "        x_input=x_input.reshape((1, n_steps, 1))\n",
    "        yhat = model.predict(x_input, verbose=0)\n",
    "        print(\"{} month output {}\".format(i,yhat))\n",
    "        temp_input.extend(yhat[0].tolist())\n",
    "        temp_input=temp_input[1:]\n",
    "        lst_output.extend(yhat.tolist())\n",
    "        i=i+1\n",
    "    else:\n",
    "        x_input = x_input.reshape((1, n_steps, 1))\n",
    "        yhat = model.predict(x_input, verbose=0)\n",
    "        print(yhat[0])\n",
    "        temp_input.extend(yhat[0].tolist())\n",
    "        lst_output.extend(yhat.tolist())\n",
    "        i=i+1"
   ]
  },
  {
   "cell_type": "code",
   "execution_count": null,
   "id": "6d5dc2da-a345-43d8-8af5-039c7df963f6",
   "metadata": {},
   "outputs": [],
   "source": [
    "lst_output"
   ]
  },
  {
   "cell_type": "code",
   "execution_count": null,
   "id": "78784945-577c-4be0-a464-6a5ea6008bb3",
   "metadata": {},
   "outputs": [],
   "source": []
  },
  {
   "cell_type": "code",
   "execution_count": null,
   "id": "909678af-4482-4ef3-a38a-a9b582c7b458",
   "metadata": {},
   "outputs": [],
   "source": []
  }
 ],
 "metadata": {
  "kernelspec": {
   "display_name": "Python 3 (ipykernel)",
   "language": "python",
   "name": "python3"
  },
  "language_info": {
   "codemirror_mode": {
    "name": "ipython",
    "version": 3
   },
   "file_extension": ".py",
   "mimetype": "text/x-python",
   "name": "python",
   "nbconvert_exporter": "python",
   "pygments_lexer": "ipython3",
   "version": "3.9.13"
  },
  "toc-autonumbering": true
 },
 "nbformat": 4,
 "nbformat_minor": 5
}
